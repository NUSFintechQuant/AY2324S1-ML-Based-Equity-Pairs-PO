{
 "cells": [
  {
   "cell_type": "code",
   "execution_count": 51,
   "metadata": {},
   "outputs": [],
   "source": [
    "import numpy as np\n",
    "import pandas as pd\n",
    "import random\n",
    "import matplotlib.pyplot as plt\n",
    "from sklearn.preprocessing import MinMaxScaler\n",
    "from sklearn.metrics import mean_absolute_error, mean_squared_error\n",
    "import tensorflow as tf\n",
    "from keras.models import Sequential\n",
    "from keras.layers import Dense, Dropout, LSTM\n",
    "from keras.optimizers import Adam\n",
    "from ta.volatility import AverageTrueRange\n",
    "from ta.momentum import RSIIndicator\n",
    "import yfinance as yf\n",
    "\n",
    "from lstm_functions import *\n",
    "from lost_functions import *"
   ]
  },
  {
   "cell_type": "markdown",
   "metadata": {},
   "source": [
    "# Reading and storing the Data"
   ]
  },
  {
   "cell_type": "code",
   "execution_count": 52,
   "metadata": {},
   "outputs": [
    {
     "name": "stdout",
     "output_type": "stream",
     "text": [
      "[*********************100%%**********************]  1 of 1 completed\n"
     ]
    },
    {
     "name": "stderr",
     "output_type": "stream",
     "text": [
      "/var/folders/1m/y4_k4vm931b40jc7hjp118rc0000gn/T/ipykernel_41807/2824289101.py:22: SettingWithCopyWarning: \n",
      "A value is trying to be set on a copy of a slice from a DataFrame.\n",
      "Try using .loc[row_indexer,col_indexer] = value instead\n",
      "\n",
      "See the caveats in the documentation: https://pandas.pydata.org/pandas-docs/stable/user_guide/indexing.html#returning-a-view-versus-a-copy\n",
      "  features['Adj Close'] = features['Adj Close'].shift(1)\n"
     ]
    },
    {
     "name": "stdout",
     "output_type": "stream",
     "text": [
      "[*********************100%%**********************]  1 of 1 completed\n"
     ]
    },
    {
     "name": "stderr",
     "output_type": "stream",
     "text": [
      "/var/folders/1m/y4_k4vm931b40jc7hjp118rc0000gn/T/ipykernel_41807/2824289101.py:22: SettingWithCopyWarning: \n",
      "A value is trying to be set on a copy of a slice from a DataFrame.\n",
      "Try using .loc[row_indexer,col_indexer] = value instead\n",
      "\n",
      "See the caveats in the documentation: https://pandas.pydata.org/pandas-docs/stable/user_guide/indexing.html#returning-a-view-versus-a-copy\n",
      "  features['Adj Close'] = features['Adj Close'].shift(1)\n"
     ]
    },
    {
     "name": "stdout",
     "output_type": "stream",
     "text": [
      "[*********************100%%**********************]  1 of 1 completed\n"
     ]
    },
    {
     "name": "stderr",
     "output_type": "stream",
     "text": [
      "/var/folders/1m/y4_k4vm931b40jc7hjp118rc0000gn/T/ipykernel_41807/2824289101.py:22: SettingWithCopyWarning: \n",
      "A value is trying to be set on a copy of a slice from a DataFrame.\n",
      "Try using .loc[row_indexer,col_indexer] = value instead\n",
      "\n",
      "See the caveats in the documentation: https://pandas.pydata.org/pandas-docs/stable/user_guide/indexing.html#returning-a-view-versus-a-copy\n",
      "  features['Adj Close'] = features['Adj Close'].shift(1)\n"
     ]
    },
    {
     "name": "stdout",
     "output_type": "stream",
     "text": [
      "[*********************100%%**********************]  1 of 1 completed\n"
     ]
    },
    {
     "name": "stderr",
     "output_type": "stream",
     "text": [
      "/var/folders/1m/y4_k4vm931b40jc7hjp118rc0000gn/T/ipykernel_41807/2824289101.py:22: SettingWithCopyWarning: \n",
      "A value is trying to be set on a copy of a slice from a DataFrame.\n",
      "Try using .loc[row_indexer,col_indexer] = value instead\n",
      "\n",
      "See the caveats in the documentation: https://pandas.pydata.org/pandas-docs/stable/user_guide/indexing.html#returning-a-view-versus-a-copy\n",
      "  features['Adj Close'] = features['Adj Close'].shift(1)\n"
     ]
    },
    {
     "name": "stdout",
     "output_type": "stream",
     "text": [
      "[*********************100%%**********************]  1 of 1 completed\n"
     ]
    },
    {
     "name": "stderr",
     "output_type": "stream",
     "text": [
      "/var/folders/1m/y4_k4vm931b40jc7hjp118rc0000gn/T/ipykernel_41807/2824289101.py:22: SettingWithCopyWarning: \n",
      "A value is trying to be set on a copy of a slice from a DataFrame.\n",
      "Try using .loc[row_indexer,col_indexer] = value instead\n",
      "\n",
      "See the caveats in the documentation: https://pandas.pydata.org/pandas-docs/stable/user_guide/indexing.html#returning-a-view-versus-a-copy\n",
      "  features['Adj Close'] = features['Adj Close'].shift(1)\n"
     ]
    },
    {
     "name": "stdout",
     "output_type": "stream",
     "text": [
      "[*********************100%%**********************]  1 of 1 completed\n"
     ]
    },
    {
     "name": "stderr",
     "output_type": "stream",
     "text": [
      "/var/folders/1m/y4_k4vm931b40jc7hjp118rc0000gn/T/ipykernel_41807/2824289101.py:22: SettingWithCopyWarning: \n",
      "A value is trying to be set on a copy of a slice from a DataFrame.\n",
      "Try using .loc[row_indexer,col_indexer] = value instead\n",
      "\n",
      "See the caveats in the documentation: https://pandas.pydata.org/pandas-docs/stable/user_guide/indexing.html#returning-a-view-versus-a-copy\n",
      "  features['Adj Close'] = features['Adj Close'].shift(1)\n"
     ]
    },
    {
     "name": "stdout",
     "output_type": "stream",
     "text": [
      "[*********************100%%**********************]  1 of 1 completed\n"
     ]
    },
    {
     "name": "stderr",
     "output_type": "stream",
     "text": [
      "/var/folders/1m/y4_k4vm931b40jc7hjp118rc0000gn/T/ipykernel_41807/2824289101.py:22: SettingWithCopyWarning: \n",
      "A value is trying to be set on a copy of a slice from a DataFrame.\n",
      "Try using .loc[row_indexer,col_indexer] = value instead\n",
      "\n",
      "See the caveats in the documentation: https://pandas.pydata.org/pandas-docs/stable/user_guide/indexing.html#returning-a-view-versus-a-copy\n",
      "  features['Adj Close'] = features['Adj Close'].shift(1)\n"
     ]
    },
    {
     "name": "stdout",
     "output_type": "stream",
     "text": [
      "[*********************100%%**********************]  1 of 1 completed\n"
     ]
    },
    {
     "name": "stderr",
     "output_type": "stream",
     "text": [
      "/var/folders/1m/y4_k4vm931b40jc7hjp118rc0000gn/T/ipykernel_41807/2824289101.py:22: SettingWithCopyWarning: \n",
      "A value is trying to be set on a copy of a slice from a DataFrame.\n",
      "Try using .loc[row_indexer,col_indexer] = value instead\n",
      "\n",
      "See the caveats in the documentation: https://pandas.pydata.org/pandas-docs/stable/user_guide/indexing.html#returning-a-view-versus-a-copy\n",
      "  features['Adj Close'] = features['Adj Close'].shift(1)\n"
     ]
    },
    {
     "name": "stdout",
     "output_type": "stream",
     "text": [
      "[*********************100%%**********************]  1 of 1 completed\n",
      "[*********************100%%**********************]  1 of 1 completed\n"
     ]
    },
    {
     "name": "stderr",
     "output_type": "stream",
     "text": [
      "/var/folders/1m/y4_k4vm931b40jc7hjp118rc0000gn/T/ipykernel_41807/2824289101.py:22: SettingWithCopyWarning: \n",
      "A value is trying to be set on a copy of a slice from a DataFrame.\n",
      "Try using .loc[row_indexer,col_indexer] = value instead\n",
      "\n",
      "See the caveats in the documentation: https://pandas.pydata.org/pandas-docs/stable/user_guide/indexing.html#returning-a-view-versus-a-copy\n",
      "  features['Adj Close'] = features['Adj Close'].shift(1)\n",
      "/var/folders/1m/y4_k4vm931b40jc7hjp118rc0000gn/T/ipykernel_41807/2824289101.py:22: SettingWithCopyWarning: \n",
      "A value is trying to be set on a copy of a slice from a DataFrame.\n",
      "Try using .loc[row_indexer,col_indexer] = value instead\n",
      "\n",
      "See the caveats in the documentation: https://pandas.pydata.org/pandas-docs/stable/user_guide/indexing.html#returning-a-view-versus-a-copy\n",
      "  features['Adj Close'] = features['Adj Close'].shift(1)\n"
     ]
    },
    {
     "data": {
      "text/plain": [
       "{'XOM':                  ATR        RSI    Volume  Adj Close\n",
       " Date                                                \n",
       " 2000-01-21  1.339286  63.336192  14343600  19.949492\n",
       " 2000-01-24  1.361926  59.595089  12459400  20.262365\n",
       " 2000-01-25  1.347235  58.662199  11921600  20.083580\n",
       " 2000-01-26  1.317968  55.838243   9298000  20.038889\n",
       " 2000-01-27  1.357756  45.381810  10548400  19.904802\n",
       " ...              ...        ...       ...        ...\n",
       " 2021-12-23  1.515455  46.865506  13543300  57.244816\n",
       " 2021-12-27  1.516494  51.427811  12593700  57.272972\n",
       " 2021-12-28  1.473173  50.357357  12781000  58.089546\n",
       " 2021-12-29  1.422947  47.483547  12733600  57.901833\n",
       " 2021-12-30  1.380593  45.614607  11940300  57.394993\n",
       " \n",
       " [5522 rows x 4 columns],\n",
       " 'SHW':                  ATR        RSI   Volume   Adj Close\n",
       " Date                                                \n",
       " 2000-01-21  0.242559  21.491617  3363900    4.047309\n",
       " 2000-01-24  0.240859  23.416933  1954800    4.104715\n",
       " 2000-01-25  0.243000  25.387373  2505000    4.119068\n",
       " 2000-01-26  0.240524  23.438959  1578000    4.133420\n",
       " 2000-01-27  0.235248  27.437246  1505100    4.090365\n",
       " ...              ...        ...      ...         ...\n",
       " 2021-12-23  6.521519  53.542684   785600  332.973083\n",
       " 2021-12-27  6.637839  60.856361   842000  332.638794\n",
       " 2021-12-28  6.457995  63.327699   601200  339.687164\n",
       " 2021-12-29  6.326709  65.746527   484700  342.488861\n",
       " 2021-12-30  6.187659  64.205767   410700  345.398651\n",
       " \n",
       " [5522 rows x 4 columns],\n",
       " 'UPS':                  ATR        RSI   Volume   Adj Close\n",
       " Date                                                \n",
       " 2000-01-21  1.964286  48.967280  1270100   37.648273\n",
       " 2000-01-24  1.984694  43.142939   831400   36.760010\n",
       " 2000-01-25  1.976859  42.597298  1263000   36.076744\n",
       " 2000-01-26  1.933869  39.379191   933400   36.008415\n",
       " 2000-01-27  1.893950  39.379191  1128400   35.598442\n",
       " ...              ...        ...      ...         ...\n",
       " 2021-12-23  4.563964  59.304725  2573900  196.318771\n",
       " 2021-12-27  4.482252  62.554383  1807200  199.850708\n",
       " 2021-12-28  4.334948  61.772099  1375400  202.600906\n",
       " 2021-12-29  4.206023  61.617738  1154900  202.195908\n",
       " 2021-12-30  4.117736  60.199938  1207000  202.120575\n",
       " \n",
       " [5522 rows x 4 columns],\n",
       " 'DUK':                  ATR        RSI   Volume  Adj Close\n",
       " Date                                               \n",
       " 2000-01-21  1.210193  84.446347  1229507  16.328598\n",
       " 2000-01-24  1.197685  85.984889  1261171  16.529718\n",
       " 2000-01-25  1.213310  83.754367  1289853  16.749142\n",
       " 2000-01-26  1.192797  84.337761   916538  16.694284\n",
       " 2000-01-27  1.181532  85.591519  1111226  16.767427\n",
       " ...              ...        ...      ...        ...\n",
       " 2021-12-23  1.664311  56.051643  1435100  96.181526\n",
       " 2021-12-27  1.599717  57.377280  1269600  96.004379\n",
       " 2021-12-28  1.579023  62.278615  1197400  96.302742\n",
       " 2021-12-29  1.523378  62.959516  1176300  97.496140\n",
       " 2021-12-30  1.480280  63.072853  1690700  97.673286\n",
       " \n",
       " [5522 rows x 4 columns],\n",
       " 'UNH':                  ATR        RSI    Volume   Adj Close\n",
       " Date                                                 \n",
       " 2000-01-21  0.303013  55.050085  12880800    6.174196\n",
       " 2000-01-24  0.315410  43.876337   9503200    5.908505\n",
       " 2000-01-25  0.307389  43.876337   8416000    5.585877\n",
       " 2000-01-26  0.301616  43.474999   8797600    5.585877\n",
       " 2000-01-27  0.292907  40.670580   9053600    5.573226\n",
       " ...              ...        ...       ...         ...\n",
       " 2021-12-23  8.437844  70.922442   1706500  482.285309\n",
       " 2021-12-27  8.186568  72.801055   1349400  483.505341\n",
       " 2021-12-28  8.017528  74.294381   1495500  487.526581\n",
       " 2021-12-29  7.817705  75.410177   1573900  490.884125\n",
       " 2021-12-30  7.657870  73.905265   1309800  493.460846\n",
       " \n",
       " [5522 rows x 4 columns],\n",
       " 'JPM':                  ATR        RSI   Volume   Adj Close\n",
       " Date                                                \n",
       " 2000-01-21  2.032739  52.191441  5160600   24.592672\n",
       " 2000-01-24  2.000638  52.438465  6459150   24.219105\n",
       " 2000-01-25  1.988688  58.449540  7579950   24.239861\n",
       " 2000-01-26  2.054972  68.506366  8386650   24.779451\n",
       " 2000-01-27  2.054021  72.705145  8165850   26.045399\n",
       " ...              ...        ...      ...         ...\n",
       " 2021-12-23  3.419795  43.562215  8055200  147.508408\n",
       " 2021-12-27  3.308381  45.706250  6188100  148.035553\n",
       " 2021-12-28  3.219925  46.865595  6342300  148.882767\n",
       " 2021-12-29  3.095645  46.686657  6398900  149.334610\n",
       " 2021-12-30  3.008100  46.495476  6948200  149.259293\n",
       " \n",
       " [5522 rows x 4 columns],\n",
       " 'AMZN':                  ATR        RSI     Volume   Adj Close\n",
       " Date                                                  \n",
       " 2000-01-21  0.314565  23.013628  229238000    3.237500\n",
       " 2000-01-24  0.332498  42.223370  583404000    3.103125\n",
       " 2000-01-25  0.327498  41.026911  188682000    3.506250\n",
       " 2000-01-26  0.322855  35.528480  131160000    3.462500\n",
       " 2000-01-27  0.310955  39.696390  135680000    3.240625\n",
       " ...              ...        ...        ...         ...\n",
       " 2021-12-23  4.561885  47.940197   36788000  171.037003\n",
       " 2021-12-27  4.502286  45.657123   58688000  171.068497\n",
       " 2021-12-28  4.397873  47.563096   54638000  169.669495\n",
       " 2021-12-29  4.270275  45.057107   35754000  170.660995\n",
       " 2021-12-30  4.134113  44.103253   37584000  169.201004\n",
       " \n",
       " [5522 rows x 4 columns],\n",
       " 'AAPL':                  ATR        RSI     Volume   Adj Close\n",
       " Date                                                  \n",
       " 2000-01-21  0.076531  57.147823  495924800    0.860164\n",
       " 2000-01-24  0.075927  50.538557  440876800    0.843587\n",
       " 2000-01-25  0.077359  56.900530  497145600    0.805220\n",
       " 2000-01-26  0.074664  54.314307  367158400    0.850691\n",
       " 2000-01-27  0.073157  54.073703  340144000    0.835060\n",
       " ...              ...        ...        ...         ...\n",
       " 2021-12-23  4.550856  62.880969   68356600  173.884613\n",
       " 2021-12-27  4.521509  66.890408   74919600  174.518234\n",
       " 2021-12-28  4.398544  64.950263   79144300  178.527771\n",
       " 2021-12-29  4.262220  65.044762   62348900  177.498154\n",
       " 2021-12-30  4.134919  62.659680   59773000  177.587265\n",
       " \n",
       " [5522 rows x 4 columns],\n",
       " 'MSFT':                  ATR        RSI    Volume   Adj Close\n",
       " Date                                                 \n",
       " 2000-01-21  2.819196  33.223644  68416200   32.924778\n",
       " 2000-01-24  2.791932  30.172140  63597600   32.225903\n",
       " 2000-01-25  2.746527  34.237594  59823200   31.449362\n",
       " 2000-01-26  2.706596  30.087367  49365000   31.934700\n",
       " 2000-01-27  2.653893  29.389798  63654800   30.866983\n",
       " ...              ...        ...       ...         ...\n",
       " 2021-12-23  7.640979  53.838966  19617800  327.869690\n",
       " 2021-12-27  7.651624  59.270353  19947000  329.335815\n",
       " 2021-12-28  7.354365  58.131276  15661500  336.971680\n",
       " 2021-12-29  7.159052  58.630733  15042000  335.790863\n",
       " 2021-12-30  6.955548  55.931143  15994500  336.479736\n",
       " \n",
       " [5522 rows x 4 columns],\n",
       " 'AMT':                  ATR        RSI   Volume   Adj Close\n",
       " Date                                                \n",
       " 2000-01-21  1.924107  91.788866  2353300   31.941071\n",
       " 2000-01-24  1.987564  83.232596  2161100   34.011345\n",
       " 2000-01-25  1.988452  78.421600   788000   33.124081\n",
       " 2000-01-26  2.042848  68.702106   578600   32.581886\n",
       " 2000-01-27  2.062109  61.480813   975700   31.349581\n",
       " ...              ...        ...      ...         ...\n",
       " 2021-12-23  5.676185  57.357764  1016000  265.802582\n",
       " 2021-12-27  5.802887  64.530778  1235300  264.738892\n",
       " 2021-12-28  5.689824  66.865063  1065600  271.406311\n",
       " 2021-12-29  5.476266  67.197201  1430600  273.999146\n",
       " 2021-12-30  5.412246  69.128313  1370200  274.369568\n",
       " \n",
       " [5522 rows x 4 columns]}"
      ]
     },
     "execution_count": 52,
     "metadata": {},
     "output_type": "execute_result"
    }
   ],
   "source": [
    "raw_data = {}\n",
    "stock_list = [\"XOM\", \"SHW\", \"UPS\", \"DUK\", \"UNH\", \"JPM\", \"AMZN\", \"AAPL\", \"MSFT\", \"AMT\"]\n",
    "start_date = '2000-01-01'\n",
    "end_date = '2021-12-31'\n",
    "\n",
    "# Initialize an empty DataFrame to store the data\n",
    "all_data = pd.DataFrame()\n",
    "\n",
    "# Loop through each stock symbol\n",
    "for symbol in stock_list:\n",
    "    # Download historical data from Yahoo Finance\n",
    "    data = yf.download(symbol, start=start_date, end=end_date)\n",
    "    \n",
    "    # Calculate ATR (Average True Range)\n",
    "    data['ATR'] = AverageTrueRange(high=data['High'], low=data['Low'], close=data['Close'], window=14).average_true_range()\n",
    "    \n",
    "    # Calculate RSI (Relative Strength Index)\n",
    "    data['RSI'] = RSIIndicator(close=data['Close'], window=14).rsi()\n",
    "    \n",
    "    # Select the features you're interested in\n",
    "    features = data[['ATR', 'RSI', 'Volume', 'Adj Close']]\n",
    "    features['Adj Close'] = features['Adj Close'].shift(1)\n",
    "    \n",
    "    # Drop rows with NaN values (if any)\n",
    "    features = features.dropna()\n",
    "    \n",
    "    raw_data[symbol] = features\n",
    "\n",
    "raw_data"
   ]
  },
  {
   "cell_type": "markdown",
   "metadata": {},
   "source": [
    "generating weights for y_true"
   ]
  },
  {
   "cell_type": "code",
   "execution_count": 53,
   "metadata": {},
   "outputs": [
    {
     "data": {
      "text/html": [
       "<div>\n",
       "<style scoped>\n",
       "    .dataframe tbody tr th:only-of-type {\n",
       "        vertical-align: middle;\n",
       "    }\n",
       "\n",
       "    .dataframe tbody tr th {\n",
       "        vertical-align: top;\n",
       "    }\n",
       "\n",
       "    .dataframe thead th {\n",
       "        text-align: right;\n",
       "    }\n",
       "</style>\n",
       "<table border=\"1\" class=\"dataframe\">\n",
       "  <thead>\n",
       "    <tr style=\"text-align: right;\">\n",
       "      <th></th>\n",
       "      <th>0</th>\n",
       "      <th>1</th>\n",
       "      <th>2</th>\n",
       "      <th>3</th>\n",
       "      <th>4</th>\n",
       "      <th>5</th>\n",
       "      <th>6</th>\n",
       "      <th>7</th>\n",
       "      <th>8</th>\n",
       "      <th>9</th>\n",
       "    </tr>\n",
       "  </thead>\n",
       "  <tbody>\n",
       "    <tr>\n",
       "      <th>0</th>\n",
       "      <td>0.157203</td>\n",
       "      <td>0.153188</td>\n",
       "      <td>0.052044</td>\n",
       "      <td>0.148190</td>\n",
       "      <td>0.000000</td>\n",
       "      <td>0.074544</td>\n",
       "      <td>0.004088</td>\n",
       "      <td>0.063613</td>\n",
       "      <td>0.058383</td>\n",
       "      <td>0.288747</td>\n",
       "    </tr>\n",
       "    <tr>\n",
       "      <th>1</th>\n",
       "      <td>0.088739</td>\n",
       "      <td>0.112621</td>\n",
       "      <td>0.069814</td>\n",
       "      <td>0.131573</td>\n",
       "      <td>0.000000</td>\n",
       "      <td>0.107504</td>\n",
       "      <td>0.357654</td>\n",
       "      <td>0.017685</td>\n",
       "      <td>0.059134</td>\n",
       "      <td>0.055276</td>\n",
       "    </tr>\n",
       "    <tr>\n",
       "      <th>2</th>\n",
       "      <td>0.062833</td>\n",
       "      <td>0.088199</td>\n",
       "      <td>0.064305</td>\n",
       "      <td>0.058169</td>\n",
       "      <td>0.072719</td>\n",
       "      <td>0.171614</td>\n",
       "      <td>0.017286</td>\n",
       "      <td>0.323595</td>\n",
       "      <td>0.141280</td>\n",
       "      <td>0.000000</td>\n",
       "    </tr>\n",
       "    <tr>\n",
       "      <th>3</th>\n",
       "      <td>0.112131</td>\n",
       "      <td>0.104853</td>\n",
       "      <td>0.102959</td>\n",
       "      <td>0.133765</td>\n",
       "      <td>0.120780</td>\n",
       "      <td>0.225027</td>\n",
       "      <td>0.000000</td>\n",
       "      <td>0.089304</td>\n",
       "      <td>0.059877</td>\n",
       "      <td>0.051305</td>\n",
       "    </tr>\n",
       "    <tr>\n",
       "      <th>4</th>\n",
       "      <td>0.013851</td>\n",
       "      <td>0.123907</td>\n",
       "      <td>0.103011</td>\n",
       "      <td>0.132237</td>\n",
       "      <td>0.055688</td>\n",
       "      <td>0.188433</td>\n",
       "      <td>0.200648</td>\n",
       "      <td>0.097944</td>\n",
       "      <td>0.084280</td>\n",
       "      <td>0.000000</td>\n",
       "    </tr>\n",
       "  </tbody>\n",
       "</table>\n",
       "</div>"
      ],
      "text/plain": [
       "          0         1         2         3         4         5         6  \\\n",
       "0  0.157203  0.153188  0.052044  0.148190  0.000000  0.074544  0.004088   \n",
       "1  0.088739  0.112621  0.069814  0.131573  0.000000  0.107504  0.357654   \n",
       "2  0.062833  0.088199  0.064305  0.058169  0.072719  0.171614  0.017286   \n",
       "3  0.112131  0.104853  0.102959  0.133765  0.120780  0.225027  0.000000   \n",
       "4  0.013851  0.123907  0.103011  0.132237  0.055688  0.188433  0.200648   \n",
       "\n",
       "          7         8         9  \n",
       "0  0.063613  0.058383  0.288747  \n",
       "1  0.017685  0.059134  0.055276  \n",
       "2  0.323595  0.141280  0.000000  \n",
       "3  0.089304  0.059877  0.051305  \n",
       "4  0.097944  0.084280  0.000000  "
      ]
     },
     "execution_count": 53,
     "metadata": {},
     "output_type": "execute_result"
    }
   ],
   "source": [
    "### question: not possible to normalise to (-1, 1) and sum to 0, need solve optimisation problem?\n",
    "\n",
    "price_data = pd.concat([raw_data[i]['Adj Close'] for i in stock_list], axis=1)\n",
    "price_data.columns = stock_list\n",
    "\n",
    "## get the % returns\n",
    "returns_data = price_data.pct_change().iloc[1:, :] \n",
    "\n",
    "## normalize weights to (0, 1)\n",
    "sc = MinMaxScaler(feature_range = (0, 1))\n",
    "weights_data = pd.DataFrame(sc.fit_transform(returns_data.T).T)\n",
    "\n",
    "## Sum weights to 1\n",
    "weights_data['total'] = weights_data.sum(axis=1)\n",
    "for col in weights_data.columns:\n",
    "    weights_data[col] = weights_data[col]/weights_data['total']\n",
    "weights_data = weights_data.drop(columns=['total'])\n",
    "weights_array = weights_data.values\n",
    "\n",
    "weights_data.head()"
   ]
  },
  {
   "cell_type": "markdown",
   "metadata": {},
   "source": [
    "data preprocessing"
   ]
  },
  {
   "cell_type": "code",
   "execution_count": 54,
   "metadata": {},
   "outputs": [
    {
     "data": {
      "text/html": [
       "<div>\n",
       "<style scoped>\n",
       "    .dataframe tbody tr th:only-of-type {\n",
       "        vertical-align: middle;\n",
       "    }\n",
       "\n",
       "    .dataframe tbody tr th {\n",
       "        vertical-align: top;\n",
       "    }\n",
       "\n",
       "    .dataframe thead th {\n",
       "        text-align: right;\n",
       "    }\n",
       "</style>\n",
       "<table border=\"1\" class=\"dataframe\">\n",
       "  <thead>\n",
       "    <tr style=\"text-align: right;\">\n",
       "      <th></th>\n",
       "      <th>ATR</th>\n",
       "      <th>RSI</th>\n",
       "      <th>Volume</th>\n",
       "      <th>Adj Close</th>\n",
       "      <th>ATR</th>\n",
       "      <th>RSI</th>\n",
       "      <th>Volume</th>\n",
       "      <th>Adj Close</th>\n",
       "      <th>ATR</th>\n",
       "      <th>RSI</th>\n",
       "      <th>...</th>\n",
       "      <th>Volume</th>\n",
       "      <th>Adj Close</th>\n",
       "      <th>ATR</th>\n",
       "      <th>RSI</th>\n",
       "      <th>Volume</th>\n",
       "      <th>Adj Close</th>\n",
       "      <th>ATR</th>\n",
       "      <th>RSI</th>\n",
       "      <th>Volume</th>\n",
       "      <th>Adj Close</th>\n",
       "    </tr>\n",
       "    <tr>\n",
       "      <th>Date</th>\n",
       "      <th></th>\n",
       "      <th></th>\n",
       "      <th></th>\n",
       "      <th></th>\n",
       "      <th></th>\n",
       "      <th></th>\n",
       "      <th></th>\n",
       "      <th></th>\n",
       "      <th></th>\n",
       "      <th></th>\n",
       "      <th></th>\n",
       "      <th></th>\n",
       "      <th></th>\n",
       "      <th></th>\n",
       "      <th></th>\n",
       "      <th></th>\n",
       "      <th></th>\n",
       "      <th></th>\n",
       "      <th></th>\n",
       "      <th></th>\n",
       "      <th></th>\n",
       "    </tr>\n",
       "  </thead>\n",
       "  <tbody>\n",
       "    <tr>\n",
       "      <th>2000-01-24</th>\n",
       "      <td>1.361926</td>\n",
       "      <td>59.595089</td>\n",
       "      <td>12459400</td>\n",
       "      <td>20.262365</td>\n",
       "      <td>0.240859</td>\n",
       "      <td>23.416933</td>\n",
       "      <td>1954800</td>\n",
       "      <td>4.104715</td>\n",
       "      <td>1.984694</td>\n",
       "      <td>43.142939</td>\n",
       "      <td>...</td>\n",
       "      <td>440876800</td>\n",
       "      <td>0.843587</td>\n",
       "      <td>2.791932</td>\n",
       "      <td>30.172140</td>\n",
       "      <td>63597600</td>\n",
       "      <td>32.225903</td>\n",
       "      <td>1.987564</td>\n",
       "      <td>83.232596</td>\n",
       "      <td>2161100</td>\n",
       "      <td>34.011345</td>\n",
       "    </tr>\n",
       "    <tr>\n",
       "      <th>2000-01-25</th>\n",
       "      <td>1.347235</td>\n",
       "      <td>58.662199</td>\n",
       "      <td>11921600</td>\n",
       "      <td>20.083580</td>\n",
       "      <td>0.243000</td>\n",
       "      <td>25.387373</td>\n",
       "      <td>2505000</td>\n",
       "      <td>4.119068</td>\n",
       "      <td>1.976859</td>\n",
       "      <td>42.597298</td>\n",
       "      <td>...</td>\n",
       "      <td>497145600</td>\n",
       "      <td>0.805220</td>\n",
       "      <td>2.746527</td>\n",
       "      <td>34.237594</td>\n",
       "      <td>59823200</td>\n",
       "      <td>31.449362</td>\n",
       "      <td>1.988452</td>\n",
       "      <td>78.421600</td>\n",
       "      <td>788000</td>\n",
       "      <td>33.124081</td>\n",
       "    </tr>\n",
       "    <tr>\n",
       "      <th>2000-01-26</th>\n",
       "      <td>1.317968</td>\n",
       "      <td>55.838243</td>\n",
       "      <td>9298000</td>\n",
       "      <td>20.038889</td>\n",
       "      <td>0.240524</td>\n",
       "      <td>23.438959</td>\n",
       "      <td>1578000</td>\n",
       "      <td>4.133420</td>\n",
       "      <td>1.933869</td>\n",
       "      <td>39.379191</td>\n",
       "      <td>...</td>\n",
       "      <td>367158400</td>\n",
       "      <td>0.850691</td>\n",
       "      <td>2.706596</td>\n",
       "      <td>30.087367</td>\n",
       "      <td>49365000</td>\n",
       "      <td>31.934700</td>\n",
       "      <td>2.042848</td>\n",
       "      <td>68.702106</td>\n",
       "      <td>578600</td>\n",
       "      <td>32.581886</td>\n",
       "    </tr>\n",
       "    <tr>\n",
       "      <th>2000-01-27</th>\n",
       "      <td>1.357756</td>\n",
       "      <td>45.381810</td>\n",
       "      <td>10548400</td>\n",
       "      <td>19.904802</td>\n",
       "      <td>0.235248</td>\n",
       "      <td>27.437246</td>\n",
       "      <td>1505100</td>\n",
       "      <td>4.090365</td>\n",
       "      <td>1.893950</td>\n",
       "      <td>39.379191</td>\n",
       "      <td>...</td>\n",
       "      <td>340144000</td>\n",
       "      <td>0.835060</td>\n",
       "      <td>2.653893</td>\n",
       "      <td>29.389798</td>\n",
       "      <td>63654800</td>\n",
       "      <td>30.866983</td>\n",
       "      <td>2.062109</td>\n",
       "      <td>61.480813</td>\n",
       "      <td>975700</td>\n",
       "      <td>31.349581</td>\n",
       "    </tr>\n",
       "    <tr>\n",
       "      <th>2000-01-28</th>\n",
       "      <td>1.336666</td>\n",
       "      <td>38.740933</td>\n",
       "      <td>10361000</td>\n",
       "      <td>19.308849</td>\n",
       "      <td>0.230349</td>\n",
       "      <td>22.398455</td>\n",
       "      <td>1428300</td>\n",
       "      <td>4.119068</td>\n",
       "      <td>1.892596</td>\n",
       "      <td>38.535109</td>\n",
       "      <td>...</td>\n",
       "      <td>423348800</td>\n",
       "      <td>0.833640</td>\n",
       "      <td>2.571472</td>\n",
       "      <td>28.814246</td>\n",
       "      <td>58225400</td>\n",
       "      <td>30.672834</td>\n",
       "      <td>2.066601</td>\n",
       "      <td>58.759806</td>\n",
       "      <td>601300</td>\n",
       "      <td>30.265162</td>\n",
       "    </tr>\n",
       "  </tbody>\n",
       "</table>\n",
       "<p>5 rows × 40 columns</p>\n",
       "</div>"
      ],
      "text/plain": [
       "                 ATR        RSI    Volume  Adj Close       ATR        RSI  \\\n",
       "Date                                                                        \n",
       "2000-01-24  1.361926  59.595089  12459400  20.262365  0.240859  23.416933   \n",
       "2000-01-25  1.347235  58.662199  11921600  20.083580  0.243000  25.387373   \n",
       "2000-01-26  1.317968  55.838243   9298000  20.038889  0.240524  23.438959   \n",
       "2000-01-27  1.357756  45.381810  10548400  19.904802  0.235248  27.437246   \n",
       "2000-01-28  1.336666  38.740933  10361000  19.308849  0.230349  22.398455   \n",
       "\n",
       "             Volume  Adj Close       ATR        RSI  ...     Volume  \\\n",
       "Date                                                 ...              \n",
       "2000-01-24  1954800   4.104715  1.984694  43.142939  ...  440876800   \n",
       "2000-01-25  2505000   4.119068  1.976859  42.597298  ...  497145600   \n",
       "2000-01-26  1578000   4.133420  1.933869  39.379191  ...  367158400   \n",
       "2000-01-27  1505100   4.090365  1.893950  39.379191  ...  340144000   \n",
       "2000-01-28  1428300   4.119068  1.892596  38.535109  ...  423348800   \n",
       "\n",
       "            Adj Close       ATR        RSI    Volume  Adj Close       ATR  \\\n",
       "Date                                                                        \n",
       "2000-01-24   0.843587  2.791932  30.172140  63597600  32.225903  1.987564   \n",
       "2000-01-25   0.805220  2.746527  34.237594  59823200  31.449362  1.988452   \n",
       "2000-01-26   0.850691  2.706596  30.087367  49365000  31.934700  2.042848   \n",
       "2000-01-27   0.835060  2.653893  29.389798  63654800  30.866983  2.062109   \n",
       "2000-01-28   0.833640  2.571472  28.814246  58225400  30.672834  2.066601   \n",
       "\n",
       "                  RSI   Volume  Adj Close  \n",
       "Date                                       \n",
       "2000-01-24  83.232596  2161100  34.011345  \n",
       "2000-01-25  78.421600   788000  33.124081  \n",
       "2000-01-26  68.702106   578600  32.581886  \n",
       "2000-01-27  61.480813   975700  31.349581  \n",
       "2000-01-28  58.759806   601300  30.265162  \n",
       "\n",
       "[5 rows x 40 columns]"
      ]
     },
     "execution_count": 54,
     "metadata": {},
     "output_type": "execute_result"
    }
   ],
   "source": [
    "## compress into 3x6 features\n",
    "\n",
    "data = pd.concat([raw_data[i] for i in stock_list], axis=1)[1:]\n",
    "data.head()"
   ]
  },
  {
   "cell_type": "code",
   "execution_count": 55,
   "metadata": {},
   "outputs": [
    {
     "name": "stdout",
     "output_type": "stream",
     "text": [
      "(4416, 40)\n",
      "(1105, 40)\n",
      "                  XOM         SHW         UPS        DUK         UNH  \\\n",
      "Date                                                                   \n",
      "2017-09-25  59.414742  110.483742   97.512527  65.613930  176.754364   \n",
      "2017-09-26  60.202805  111.191315   97.968300  66.307068  175.582291   \n",
      "2017-09-27  60.135868  111.235542   98.548401  66.057854  176.452179   \n",
      "2017-09-28  60.537338  110.509018   98.299805  65.372513  178.091278   \n",
      "2017-09-29  61.102360  112.783379   99.120209  65.621719  179.565536   \n",
      "...               ...         ...         ...        ...         ...   \n",
      "2021-12-23  57.244816  332.973083  196.318771  96.181526  482.285309   \n",
      "2021-12-27  57.272972  332.638794  199.850708  96.004379  483.505341   \n",
      "2021-12-28  58.089546  339.687164  202.600906  96.302742  487.526581   \n",
      "2021-12-29  57.901833  342.488861  202.195908  97.496140  490.884125   \n",
      "2021-12-30  57.394993  345.398651  202.120575  97.673286  493.460846   \n",
      "\n",
      "                   JPM        AMZN        AAPL        MSFT         AMT  \n",
      "Date                                                                    \n",
      "2017-09-25   79.197113   47.755001   35.825844   69.250320  119.876587  \n",
      "2017-09-26   78.604156   46.989498   35.509781   68.180084  119.537270  \n",
      "2017-09-27   78.253410   46.930000   36.120686   68.180084  118.693291  \n",
      "2017-09-28   79.489418   47.543499   36.377785   68.729164  117.231628  \n",
      "2017-09-29   79.656441   47.820000   36.153698   68.747772  118.997803  \n",
      "...                ...         ...         ...         ...         ...  \n",
      "2021-12-23  147.508408  171.037003  173.884613  327.869690  265.802582  \n",
      "2021-12-27  148.035553  171.068497  174.518234  329.335815  264.738892  \n",
      "2021-12-28  148.882767  169.669495  178.527771  336.971680  271.406311  \n",
      "2021-12-29  149.334610  170.660995  177.498154  335.790863  273.999146  \n",
      "2021-12-30  149.259293  169.201004  177.587265  336.479736  274.369568  \n",
      "\n",
      "[1075 rows x 10 columns]\n"
     ]
    }
   ],
   "source": [
    "train_size = int(len(data) * 0.8)\n",
    "sc = MinMaxScaler(feature_range = (0, 1))\n",
    "\n",
    "weights_array_train = weights_array[:train_size]\n",
    "weights_array_test = weights_array[train_size:]\n",
    "\n",
    "\n",
    "train_data = data.iloc[:train_size]\n",
    "train_array = train_data.values\n",
    "train_scaled = sc.fit_transform(train_array)\n",
    "test_data = data.iloc[train_size:]\n",
    "test_array = test_data.values\n",
    "test_scaled = sc.fit_transform(test_array)\n",
    "\n",
    "train, test = np.array(train_scaled), np.array(test_scaled)\n",
    "print(train.shape)\n",
    "print(test.shape)\n",
    "\n",
    "## table containing prices of test set (for portfolio evaluation)\n",
    "test_prices = price_data[train_size:].copy(deep=True)\n",
    "test_prices = test_prices[31:]  ## batch_size=30 and first value of y is 0 due to pct_change diff\n",
    "print(test_prices)"
   ]
  },
  {
   "cell_type": "markdown",
   "metadata": {},
   "source": [
    "data structure creation"
   ]
  },
  {
   "cell_type": "code",
   "execution_count": 73,
   "metadata": {},
   "outputs": [
    {
     "name": "stdout",
     "output_type": "stream",
     "text": [
      "[0.17655044 0.17734408 0.22248546 0.01376248 0.00667496 0.14005626\n",
      " 0.02533168 0.02710601 0.21068862 0.        ]\n"
     ]
    }
   ],
   "source": [
    "batch_size = 30\n",
    "\n",
    "x_train, y_train = [], []\n",
    "x_test, y_test = [], []\n",
    "\n",
    "for i in range(batch_size, train.shape[0]):\n",
    "    x_train.append(train[i-batch_size: i, :])\n",
    "    y_train.append(weights_array_train[i, :])\n",
    "\n",
    "for i in range(batch_size, test.shape[0]):\n",
    "    x_test.append(test[i-batch_size: i, :])\n",
    "    y_test.append(weights_array_test[i, :])\n",
    "\n",
    "x_train, y_train = np.array(x_train), np.array(y_train)\n",
    "x_test, y_test = np.array(x_test), np.array(y_test)\n",
    "# print(x_train.shape, y_train.shape)\n",
    "# print(x_test.shape, y_test.shape)\n",
    "print(y_test[0])"
   ]
  },
  {
   "cell_type": "markdown",
   "metadata": {},
   "source": [
    "model initiation"
   ]
  },
  {
   "cell_type": "code",
   "execution_count": 57,
   "metadata": {},
   "outputs": [
    {
     "name": "stdout",
     "output_type": "stream",
     "text": [
      "Model: \"sequential_8\"\n",
      "_________________________________________________________________\n",
      " Layer (type)                Output Shape              Param #   \n",
      "=================================================================\n",
      " dense_38 (Dense)            (None, 30, 50)            2050      \n",
      "                                                                 \n",
      " dense_39 (Dense)            (None, 30, 40)            2040      \n",
      "                                                                 \n",
      " dense_40 (Dense)            (None, 30, 40)            1640      \n",
      "                                                                 \n",
      " dense_41 (Dense)            (None, 30, 40)            1640      \n",
      "                                                                 \n",
      " lstm_26 (LSTM)              (None, 30, 30)            8520      \n",
      "                                                                 \n",
      " dropout_26 (Dropout)        (None, 30, 30)            0         \n",
      "                                                                 \n",
      " lstm_27 (LSTM)              (None, 30, 30)            7320      \n",
      "                                                                 \n",
      " dropout_27 (Dropout)        (None, 30, 30)            0         \n",
      "                                                                 \n",
      " lstm_28 (LSTM)              (None, 30, 30)            7320      \n",
      "                                                                 \n",
      " dropout_28 (Dropout)        (None, 30, 30)            0         \n",
      "                                                                 \n",
      " lstm_29 (LSTM)              (None, 30)                7320      \n",
      "                                                                 \n",
      " dropout_29 (Dropout)        (None, 30)                0         \n",
      "                                                                 \n",
      " dense_42 (Dense)            (None, 10)                310       \n",
      "                                                                 \n",
      "=================================================================\n",
      "Total params: 38160 (149.06 KB)\n",
      "Trainable params: 38160 (149.06 KB)\n",
      "Non-trainable params: 0 (0.00 Byte)\n",
      "_________________________________________________________________\n"
     ]
    }
   ],
   "source": [
    "num_units = [50, 40, 40, 40]\n",
    "\n",
    "model = Sequential()\n",
    "\n",
    "## can comment out FC layers too, but change first LSTM 2nd input to x_train.shape[2]\n",
    "model.add(Dense(units=num_units[0], activation='swish', input_shape=(x_train.shape[1], x_train.shape[2])))\n",
    "model.add(Dense(units=num_units[1], activation='swish'))\n",
    "model.add(Dense(units=num_units[2], activation='swish'))\n",
    "model.add(Dense(units=num_units[3], activation='swish'))\n",
    "\n",
    "model.add(LSTM(units=30, activation='relu', return_sequences=True, input_shape=(x_train.shape[1], num_units[3])))\n",
    "model.add(Dropout(rate = 0.2))\n",
    "model.add(LSTM(units=30, activation='relu', return_sequences=True, input_shape=(x_train.shape[1], x_train.shape[2])))\n",
    "model.add(Dropout(rate = 0.2))\n",
    "model.add(LSTM(units=30, activation='relu', return_sequences=True, input_shape=(x_train.shape[1], x_train.shape[2])))\n",
    "model.add(Dropout(rate = 0.2))\n",
    "model.add(LSTM(units=30, activation='relu', return_sequences=False, input_shape=(x_train.shape[1], x_train.shape[2])))\n",
    "model.add(Dropout(rate = 0.2))\n",
    "\n",
    "model.add(Dense(units=y_train.shape[1], activation='sigmoid'))\n",
    "\n",
    "model.summary()"
   ]
  },
  {
   "cell_type": "code",
   "execution_count": 58,
   "metadata": {},
   "outputs": [
    {
     "name": "stdout",
     "output_type": "stream",
     "text": [
      "Epoch 1/10\n",
      "69/69 [==============================] - 4s 25ms/step - loss: 0.0579\n",
      "Epoch 2/10\n",
      "69/69 [==============================] - 2s 28ms/step - loss: 0.0082\n",
      "Epoch 3/10\n",
      "69/69 [==============================] - 2s 30ms/step - loss: 0.0072\n",
      "Epoch 4/10\n",
      "69/69 [==============================] - 2s 30ms/step - loss: 0.0067\n",
      "Epoch 5/10\n",
      "69/69 [==============================] - 2s 30ms/step - loss: 0.0064\n",
      "Epoch 6/10\n",
      "69/69 [==============================] - 2s 30ms/step - loss: 0.0063\n",
      "Epoch 7/10\n",
      "69/69 [==============================] - 2s 30ms/step - loss: 0.0060\n",
      "Epoch 8/10\n",
      "69/69 [==============================] - 2s 30ms/step - loss: 0.0059\n",
      "Epoch 9/10\n",
      "69/69 [==============================] - 2s 30ms/step - loss: 0.0058\n",
      "Epoch 10/10\n",
      "69/69 [==============================] - 2s 30ms/step - loss: 0.0058\n"
     ]
    },
    {
     "data": {
      "text/plain": [
       "<keras.src.callbacks.History at 0x305a3fd60>"
      ]
     },
     "execution_count": 58,
     "metadata": {},
     "output_type": "execute_result"
    }
   ],
   "source": [
    "model.compile(optimizer='adam', loss='mean_squared_error')\n",
    "model.fit(x=x_train, y=y_train, batch_size=64, epochs=10)"
   ]
  },
  {
   "cell_type": "code",
   "execution_count": null,
   "metadata": {},
   "outputs": [],
   "source": []
  },
  {
   "cell_type": "code",
   "execution_count": 59,
   "metadata": {},
   "outputs": [],
   "source": [
    "# from keras.optimizers import Adam\n",
    "\n",
    "# # Tuning parameters \n",
    "# param_space = {\n",
    "#     'units_lstm': [20, 30, 40, 50],\n",
    "#     'units_fc1': [10, 20, 30, 40],\n",
    "#     'units_fc2': [10, 20, 30, 40],\n",
    "#     'units_fc3': [10, 20, 30, 40],\n",
    "#     'epochs': [10, 20, 30],\n",
    "#     'batch_size': [32, 64, 128],\n",
    "#     'learning_rate': [0.001, 0.01, 0.1],\n",
    "#     'dropout_rate': [0.1, 0.2, 0.3],\n",
    "#     'loss': ['mean_squared_error', 'mean_absolute_error'],\n",
    "#     'layers': [1, 2, 3]\n",
    "# }\n",
    "\n",
    "# num_configs = 30\n",
    "# best_loss = float('inf')\n",
    "# best_hyperparameters = {}\n",
    "\n",
    "# for _ in range(num_configs):\n",
    "#     hyperparameters = {param: random.choice(values) for param, values in param_space.items()}\n",
    "\n",
    "#     model = Sequential()\n",
    "#     model.add(Dense(units=hyperparameters['units_lstm'], activation='swish'))\n",
    "#     # Adding Dense layers\n",
    "#     for i in range(hyperparameters['layers']):\n",
    "#         units = hyperparameters[f'units_fc{i+1}']\n",
    "#         model.add(Dense(units=units, activation='swish'))\n",
    "    \n",
    "#     # Adding LSTM layers\n",
    "#     for i in range(hyperparameters['layers']):\n",
    "#         units = hyperparameters['units_lstm']\n",
    "#         model.add(LSTM(units=units, activation='relu', return_sequences=True if i < 2 else False))\n",
    "#         model.add(Dropout(rate=hyperparameters['dropout_rate']))\n",
    "\n",
    "#     # Adding output Dense layer\n",
    "#     model.add(Dense(units=y_train.shape[1], activation='sigmoid'))\n",
    "\n",
    "#     model.compile(optimizer=Adam(learning_rate=hyperparameters['learning_rate']), loss='mean_squared_error')\n",
    "\n",
    "#     # Train the model\n",
    "#     history = model.fit(x=x_train, y=y_train, batch_size=hyperparameters['batch_size'],\n",
    "#                         epochs=hyperparameters['epochs'], verbose=0)\n",
    "\n",
    "#     val_loss = model.evaluate(x_test, y_test, verbose=0)\n",
    "\n",
    "#     if val_loss < best_loss:\n",
    "#         best_loss = val_loss\n",
    "#         best_hyperparameters = hyperparameters\n",
    "\n",
    "# # Print the best hyperparameters\n",
    "# print(\"Best Hyperparameters:\")\n",
    "# print(best_hyperparameters)\n",
    "\n",
    "# # Train the final model with the best hyperparameters\n",
    "# final_model = Sequential()\n",
    "\n",
    "# # Adding Dense layers\n",
    "# model.add(Dense(units=hyperparameters['units_lstm'], activation='swish'))\n",
    "# for i in range(best_hyperparameters['layers']):\n",
    "#     units = best_hyperparameters[f'units_fc{i+1}']\n",
    "#     final_model.add(Dense(units=units, activation='swish'))\n",
    "\n",
    "# # Adding LSTM layers\n",
    "# for i in range(best_hyperparameters['layers']):\n",
    "#     units = best_hyperparameters['units_lstm']\n",
    "#     final_model.add(LSTM(units=units, activation='relu', return_sequences=True if i < 2 else False))\n",
    "#     final_model.add(Dropout(rate=best_hyperparameters['dropout_rate']))\n",
    "\n",
    "# final_model.add(Dense(units=y_train.shape[1], activation='sigmoid'))\n",
    "\n",
    "# final_model.compile(optimizer=Adam(learning_rate=best_hyperparameters['learning_rate']), loss=best_hyperparameters['loss'])\n",
    "# final_model.fit(x=x_train, y=y_train, batch_size=best_hyperparameters['batch_size'], epochs=best_hyperparameters['epochs'])"
   ]
  },
  {
   "cell_type": "markdown",
   "metadata": {},
   "source": [
    "![Alt text](image-2.png)"
   ]
  },
  {
   "cell_type": "markdown",
   "metadata": {},
   "source": [
    "model prediction"
   ]
  },
  {
   "cell_type": "code",
   "execution_count": 60,
   "metadata": {},
   "outputs": [
    {
     "name": "stdout",
     "output_type": "stream",
     "text": [
      "34/34 [==============================] - 0s 5ms/step\n"
     ]
    }
   ],
   "source": [
    "y_pred = model.predict(x_test)\n",
    "# y_pred_test = final_model.predict(x_test)"
   ]
  },
  {
   "cell_type": "code",
   "execution_count": 61,
   "metadata": {},
   "outputs": [
    {
     "name": "stdout",
     "output_type": "stream",
     "text": [
      "(1075, 10)\n"
     ]
    }
   ],
   "source": [
    "# print(y_pred.shape)\n",
    "# print(y_pred_test.shape)\n",
    "print(y_test.shape)"
   ]
  },
  {
   "cell_type": "code",
   "execution_count": 62,
   "metadata": {},
   "outputs": [
    {
     "data": {
      "image/png": "[encoded data removed]",
      "text/plain": [
       "<Figure size 640x480 with 1 Axes>"
      ]
     },
     "metadata": {},
     "output_type": "display_data"
    }
   ],
   "source": [
    "stock = 'JPM'             # XOM, SHW, UPS, DUK, UNH, JPM, AMZN, AAPL, MSFT, AMT\n",
    "col = stock_list.index(stock)\n",
    "\n",
    "plt.plot(y_test[:, col], color='red', label='Actual')\n",
    "plt.plot(y_pred[:, col], color='blue', label='Predicted')\n",
    "plt.title(f'Predictions of {stock} weights')\n",
    "plt.xlabel('Day')\n",
    "plt.ylabel(f'{stock} weights')\n",
    "plt.ylim([0, 0.3])\n",
    "plt.legend()\n",
    "plt.show()"
   ]
  },
  {
   "cell_type": "code",
   "execution_count": 63,
   "metadata": {},
   "outputs": [
    {
     "name": "stdout",
     "output_type": "stream",
     "text": [
      "y_pred: [0.08316803 0.08457733 0.08684618 0.08578522 0.09275668 0.08887848\n",
      " 0.09568566 0.09866729 0.086188   0.09225123]\n",
      "y_test: [0.17655044 0.17734408 0.22248546 0.01376248 0.00667496 0.14005626\n",
      " 0.02533168 0.02710601 0.21068862 0.        ]\n"
     ]
    }
   ],
   "source": [
    "print(f'y_pred: {y_pred[0]}')\n",
    "print(f'y_test: {y_test[0]}')"
   ]
  },
  {
   "cell_type": "code",
   "execution_count": 64,
   "metadata": {},
   "outputs": [
    {
     "data": {
      "image/png": "[encoded data removed]",
      "text/plain": [
       "<Figure size 640x480 with 1 Axes>"
      ]
     },
     "metadata": {},
     "output_type": "display_data"
    }
   ],
   "source": [
    "plt.plot(y_pred[0], label='pred')\n",
    "plt.plot(y_test[0], label='actual')\n",
    "plt.legend()\n",
    "plt.show()"
   ]
  },
  {
   "cell_type": "code",
   "execution_count": 65,
   "metadata": {},
   "outputs": [
    {
     "data": {
      "image/png": "[encoded data removed]",
      "text/plain": [
       "<Figure size 640x480 with 1 Axes>"
      ]
     },
     "metadata": {},
     "output_type": "display_data"
    }
   ],
   "source": [
    "plt.plot(y_pred[3], label='pred')\n",
    "plt.plot(y_test[3], label='actual')\n",
    "plt.legend()\n",
    "plt.show()"
   ]
  },
  {
   "cell_type": "markdown",
   "metadata": {},
   "source": [
    "generate table of stock weights"
   ]
  },
  {
   "cell_type": "code",
   "execution_count": 66,
   "metadata": {},
   "outputs": [
    {
     "data": {
      "text/html": [
       "<div>\n",
       "<style scoped>\n",
       "    .dataframe tbody tr th:only-of-type {\n",
       "        vertical-align: middle;\n",
       "    }\n",
       "\n",
       "    .dataframe tbody tr th {\n",
       "        vertical-align: top;\n",
       "    }\n",
       "\n",
       "    .dataframe thead th {\n",
       "        text-align: right;\n",
       "    }\n",
       "</style>\n",
       "<table border=\"1\" class=\"dataframe\">\n",
       "  <thead>\n",
       "    <tr style=\"text-align: right;\">\n",
       "      <th></th>\n",
       "      <th>XOM</th>\n",
       "      <th>SHW</th>\n",
       "      <th>UPS</th>\n",
       "      <th>DUK</th>\n",
       "      <th>UNH</th>\n",
       "      <th>JPM</th>\n",
       "      <th>AMZN</th>\n",
       "      <th>AAPL</th>\n",
       "      <th>MSFT</th>\n",
       "      <th>AMT</th>\n",
       "    </tr>\n",
       "    <tr>\n",
       "      <th>Date</th>\n",
       "      <th></th>\n",
       "      <th></th>\n",
       "      <th></th>\n",
       "      <th></th>\n",
       "      <th></th>\n",
       "      <th></th>\n",
       "      <th></th>\n",
       "      <th></th>\n",
       "      <th></th>\n",
       "      <th></th>\n",
       "    </tr>\n",
       "  </thead>\n",
       "  <tbody>\n",
       "    <tr>\n",
       "      <th>2017-09-25</th>\n",
       "      <td>0.083168</td>\n",
       "      <td>0.084577</td>\n",
       "      <td>0.086846</td>\n",
       "      <td>0.085785</td>\n",
       "      <td>0.092757</td>\n",
       "      <td>0.088878</td>\n",
       "      <td>0.095686</td>\n",
       "      <td>0.098667</td>\n",
       "      <td>0.086188</td>\n",
       "      <td>0.092251</td>\n",
       "    </tr>\n",
       "    <tr>\n",
       "      <th>2017-09-26</th>\n",
       "      <td>0.083114</td>\n",
       "      <td>0.084508</td>\n",
       "      <td>0.086798</td>\n",
       "      <td>0.085718</td>\n",
       "      <td>0.092703</td>\n",
       "      <td>0.088822</td>\n",
       "      <td>0.095609</td>\n",
       "      <td>0.098617</td>\n",
       "      <td>0.086122</td>\n",
       "      <td>0.092188</td>\n",
       "    </tr>\n",
       "    <tr>\n",
       "      <th>2017-09-27</th>\n",
       "      <td>0.083107</td>\n",
       "      <td>0.084494</td>\n",
       "      <td>0.086792</td>\n",
       "      <td>0.085704</td>\n",
       "      <td>0.092693</td>\n",
       "      <td>0.088812</td>\n",
       "      <td>0.095589</td>\n",
       "      <td>0.098610</td>\n",
       "      <td>0.086108</td>\n",
       "      <td>0.092176</td>\n",
       "    </tr>\n",
       "    <tr>\n",
       "      <th>2017-09-28</th>\n",
       "      <td>0.083110</td>\n",
       "      <td>0.084490</td>\n",
       "      <td>0.086795</td>\n",
       "      <td>0.085699</td>\n",
       "      <td>0.092695</td>\n",
       "      <td>0.088810</td>\n",
       "      <td>0.095581</td>\n",
       "      <td>0.098614</td>\n",
       "      <td>0.086103</td>\n",
       "      <td>0.092176</td>\n",
       "    </tr>\n",
       "    <tr>\n",
       "      <th>2017-09-29</th>\n",
       "      <td>0.083123</td>\n",
       "      <td>0.084494</td>\n",
       "      <td>0.086806</td>\n",
       "      <td>0.085703</td>\n",
       "      <td>0.092707</td>\n",
       "      <td>0.088818</td>\n",
       "      <td>0.095583</td>\n",
       "      <td>0.098627</td>\n",
       "      <td>0.086107</td>\n",
       "      <td>0.092186</td>\n",
       "    </tr>\n",
       "  </tbody>\n",
       "</table>\n",
       "</div>"
      ],
      "text/plain": [
       "                 XOM       SHW       UPS       DUK       UNH       JPM  \\\n",
       "Date                                                                     \n",
       "2017-09-25  0.083168  0.084577  0.086846  0.085785  0.092757  0.088878   \n",
       "2017-09-26  0.083114  0.084508  0.086798  0.085718  0.092703  0.088822   \n",
       "2017-09-27  0.083107  0.084494  0.086792  0.085704  0.092693  0.088812   \n",
       "2017-09-28  0.083110  0.084490  0.086795  0.085699  0.092695  0.088810   \n",
       "2017-09-29  0.083123  0.084494  0.086806  0.085703  0.092707  0.088818   \n",
       "\n",
       "                AMZN      AAPL      MSFT       AMT  \n",
       "Date                                                \n",
       "2017-09-25  0.095686  0.098667  0.086188  0.092251  \n",
       "2017-09-26  0.095609  0.098617  0.086122  0.092188  \n",
       "2017-09-27  0.095589  0.098610  0.086108  0.092176  \n",
       "2017-09-28  0.095581  0.098614  0.086103  0.092176  \n",
       "2017-09-29  0.095583  0.098627  0.086107  0.092186  "
      ]
     },
     "execution_count": 66,
     "metadata": {},
     "output_type": "execute_result"
    }
   ],
   "source": [
    "weights_pred = pd.DataFrame(y_pred)\n",
    "weights_pred.columns = stock_list\n",
    "weights_pred.index = test_prices.index.copy()\n",
    "weights_pred.head()\n",
    "\n",
    "# weights_pred_test = pd.DataFrame(y_pred_test)\n",
    "# weights_pred_test.columns = stock_list\n",
    "# weights_pred_test.index = test_prices.index.copy()"
   ]
  },
  {
   "cell_type": "markdown",
   "metadata": {},
   "source": [
    "portfolio evaluation"
   ]
  },
  {
   "cell_type": "code",
   "execution_count": 67,
   "metadata": {},
   "outputs": [
    {
     "name": "stdout",
     "output_type": "stream",
     "text": [
      "Index(['XOM', 'SHW', 'UPS', 'DUK', 'UNH', 'JPM', 'AMZN', 'AAPL', 'MSFT',\n",
      "       'AMT'],\n",
      "      dtype='object')\n",
      "Annualized Return: 23.81%\n",
      "Annualized Volatility: 18.39%\n",
      "Sharpe Ratio: 1.13\n",
      "Maximum Drawdown: -27.43%\n"
     ]
    },
    {
     "data": {
      "image/png": "[encoded data removed]",
      "text/plain": [
       "<Figure size 1000x600 with 1 Axes>"
      ]
     },
     "metadata": {},
     "output_type": "display_data"
    }
   ],
   "source": [
    "def backtest(test_df, weights):\n",
    "    '''\n",
    "    df of stocks with index being date, cols being stocks, each entry being the price \n",
    "    weights represent the normalized portfolio weights\n",
    "    '''\n",
    "    returns = test_df.pct_change().dropna()\n",
    "\n",
    "    portfolio_returns = (returns * weights).sum(axis=1)\n",
    "    cumulative_returns = (1 + portfolio_returns).cumprod()\n",
    "    # print(cumulative_returns)\n",
    "    annualized_return = (cumulative_returns[-1])**(252/len(cumulative_returns.index)) - 1  # Assuming 252 trading days\n",
    "    annualized_volatility = portfolio_returns.std() * np.sqrt(252)\n",
    "\n",
    "    # Calculate Sharpe Ratio\n",
    "    risk_free_rate = 0.03 # can change \n",
    "    sharpe_ratio = (annualized_return - risk_free_rate) / annualized_volatility\n",
    "\n",
    "    # Calculate Maximum Drawdown\n",
    "    cumulative_returns_index = (1 + portfolio_returns).cumprod()\n",
    "    cumulative_max = cumulative_returns_index.cummax()\n",
    "    drawdown = (cumulative_returns_index - cumulative_max) / cumulative_max\n",
    "    max_drawdown = drawdown.min()\n",
    "\n",
    "    print(f\"Annualized Return: {annualized_return:.2%}\")\n",
    "    print(f\"Annualized Volatility: {annualized_volatility:.2%}\")\n",
    "    print(f\"Sharpe Ratio: {sharpe_ratio:.2f}\")\n",
    "    print(f\"Maximum Drawdown: {max_drawdown:.2%}\")\n",
    "\n",
    "    plt.figure(figsize=(10,6))\n",
    "    plt.plot(cumulative_returns)\n",
    "    plt.title('Portfolio Cumulative Returns')\n",
    "    plt.xlabel('Date')\n",
    "    plt.ylabel('Cumulative Return')\n",
    "    plt.show()\n",
    "print(test_prices.columns)\n",
    "backtest(test_prices, weights_pred)\n",
    "# backtest(test_prices, weights_pred_test)"
   ]
  },
  {
   "cell_type": "code",
   "execution_count": 68,
   "metadata": {},
   "outputs": [],
   "source": [
    "\n",
    "def backtest_2(test_df, weights):\n",
    "    '''\n",
    "    df of stocks with index being date, cols being stocks, each entry being the price \n",
    "    weights represent the normalized portfolio weights, a matrix of dimension (n_days, n_stocks)\n",
    "    '''\n",
    "    returns = test_df.pct_change().dropna()\n",
    "    # zeros_row = pd.DataFrame(np.zeros((1, 10)), columns=returns.columns)\n",
    "    # returns = pd.concat([zeros_row, returns])\n",
    "\n",
    "    portfolio_returns = (returns * weights).sum(axis=1)\n",
    "    cumulative_returns = (1 + portfolio_returns).cumprod()\n",
    "    print(cumulative_returns)\n",
    "    annualized_return = (cumulative_returns[-1])**(252/len(cumulative_returns.index)) - 1  # Assuming 252 trading days\n",
    "    annualized_volatility = np.std(portfolio_returns, axis=0) * np.sqrt(252)\n",
    "\n",
    "    # Calculate Sharpe Ratio\n",
    "    risk_free_rate = 0.03 # can change \n",
    "    sharpe_ratio = (annualized_return - risk_free_rate) / annualized_volatility\n",
    "\n",
    "    # Calculate Maximum Drawdown\n",
    "    cumulative_returns_index = (1 + portfolio_returns).cumprod()\n",
    "    cumulative_max = cumulative_returns_index.cummax()\n",
    "    drawdown = (cumulative_returns_index - cumulative_max) / cumulative_max\n",
    "    max_drawdown = drawdown.min()\n",
    "\n",
    "    print(f\"Annualized Return: {annualized_return:.2%}\")\n",
    "    print(f\"Annualized Volatility: {annualized_volatility:.2%}\")\n",
    "    print(f\"Sharpe Ratio: {sharpe_ratio:.2f}\")\n",
    "    print(f\"Maximum Drawdown: {max_drawdown:.2%}\")\n",
    "\n",
    "    plt.figure(figsize=(10,6))\n",
    "    plt.plot(cumulative_returns)\n",
    "    plt.title('Portfolio Cumulative Returns')\n",
    "    plt.xlabel('Date')\n",
    "    plt.ylabel('Cumulative Return')\n",
    "    plt.show()\n"
   ]
  },
  {
   "cell_type": "code",
   "execution_count": 69,
   "metadata": {},
   "outputs": [
    {
     "name": "stdout",
     "output_type": "stream",
     "text": [
      "                 UNH       SHW       AMT      AAPL      AMZN       UPS  \\\n",
      "Date                                                                     \n",
      "2009-01-07  0.164404  0.067186  0.115071  0.107395  0.029342  0.138388   \n",
      "2009-01-08  0.014733  0.194477  0.187308  0.012285  0.015706  0.176191   \n",
      "2009-01-09  0.052349  0.084657  0.186306  0.170493  0.200987  0.004604   \n",
      "2009-01-12  0.166001  0.155690  0.047071  0.117566  0.000719  0.121804   \n",
      "2009-01-13  0.168519  0.067891  0.013539  0.134993  0.158203  0.000643   \n",
      "...              ...       ...       ...       ...       ...       ...   \n",
      "2019-12-24  0.104058  0.110231  0.158857  0.080100  0.119535  0.211043   \n",
      "2019-12-26  0.045781  0.007739  0.158184  0.170718  0.187083  0.041504   \n",
      "2019-12-27  0.170066  0.092102  0.011192  0.074444  0.060408  0.186011   \n",
      "2019-12-30  0.014216  0.104222  0.137379  0.036052  0.178288  0.070137   \n",
      "2019-12-31  0.168228  0.135069  0.063342  0.167674  0.135512  0.069365   \n",
      "\n",
      "                 DUK       XOM       JPM      MSFT  \n",
      "Date                                                \n",
      "2009-01-07  0.140099  0.106458  0.077963  0.053693  \n",
      "2009-01-08  0.043203  0.068713  0.129332  0.158052  \n",
      "2009-01-09  0.041771  0.173905  0.047739  0.037190  \n",
      "2009-01-12  0.156380  0.059744  0.173511  0.001513  \n",
      "2009-01-13  0.208640  0.112023  0.063989  0.071559  \n",
      "...              ...       ...       ...       ...  \n",
      "2019-12-24  0.036108  0.012063  0.025974  0.142030  \n",
      "2019-12-26  0.144979  0.084905  0.147956  0.011150  \n",
      "2019-12-27  0.097076  0.045352  0.104753  0.158597  \n",
      "2019-12-30  0.180609  0.164906  0.090906  0.023284  \n",
      "2019-12-31  0.019598  0.100792  0.033066  0.107354  \n",
      "\n",
      "[2765 rows x 10 columns]\n",
      "Date\n",
      "2009-01-07    1.000000e+00\n",
      "2009-01-08    8.510738e-01\n",
      "2009-01-09    8.266306e-01\n",
      "2009-01-12    7.946000e-01\n",
      "2009-01-13    8.379413e-01\n",
      "                  ...     \n",
      "2019-12-24    1.251947e+17\n",
      "2019-12-26    1.262185e+17\n",
      "2019-12-27    1.264822e+17\n",
      "2019-12-30    1.260719e+17\n",
      "2019-12-31    1.266528e+17\n",
      "Length: 2765, dtype: float64\n",
      "Annualized Return: 3520.09%\n",
      "Annualized Volatility: 2063.00%\n",
      "Sharpe Ratio: 1.70\n",
      "Maximum Drawdown: -44882.70%\n"
     ]
    },
    {
     "data": {
      "image/png": "[encoded data removed]",
      "text/plain": [
       "<Figure size 1000x600 with 1 Axes>"
      ]
     },
     "metadata": {},
     "output_type": "display_data"
    }
   ],
   "source": [
    "alvin_test = pd.read_csv('truth2.csv').set_index('Date')\n",
    "weights = pd.read_csv('weights2.csv').set_index('Date')\n",
    "data = np.random.rand(2765, 10)\n",
    "# Normalize each column to sum to 1\n",
    "normalized_data = data / data.sum(axis=1, keepdims=True)\n",
    "\n",
    "# Create a DataFrame\n",
    "random_weights = pd.DataFrame(normalized_data, index=alvin_test.index, columns=alvin_test.columns)\n",
    "print(random_weights)\n",
    "backtest_2(alvin_test, weights)"
   ]
  },
  {
   "cell_type": "code",
   "execution_count": null,
   "metadata": {},
   "outputs": [],
   "source": []
  },
  {
   "cell_type": "code",
   "execution_count": null,
   "metadata": {},
   "outputs": [],
   "source": []
  },
  {
   "cell_type": "code",
   "execution_count": 70,
   "metadata": {},
   "outputs": [],
   "source": [
    "def custom_loss_1(y_true, y_pred):\n",
    "    # y_true is the s&p500 returns\n",
    "    # y_pred is the array of weights for each stock\n",
    "    # we want to maximise y_pred - s&p500 returns (at least 20% higher)\n",
    "    # aka minimise s&p500 returns - y_pred\n",
    "\n",
    "    # <normalize>\n",
    "    # predicted weights for day i * returns on day i = total returns\n",
    "    # compare w s&p500 returns\n",
    "\n",
    "    return y_true*1.2 - y_pred"
   ]
  },
  {
   "cell_type": "code",
   "execution_count": null,
   "metadata": {},
   "outputs": [],
   "source": []
  },
  {
   "cell_type": "code",
   "execution_count": null,
   "metadata": {},
   "outputs": [],
   "source": []
  }
 ],
 "metadata": {
  "kernelspec": {
   "display_name": "nus_fintech",
   "language": "python",
   "name": "python3"
  },
  "language_info": {
   "codemirror_mode": {
    "name": "ipython",
    "version": 3
   },
   "file_extension": ".py",
   "mimetype": "text/x-python",
   "name": "python",
   "nbconvert_exporter": "python",
   "pygments_lexer": "ipython3",
   "version": "3.9.13"
  },
  "orig_nbformat": 4
 },
 "nbformat": 4,
 "nbformat_minor": 2
}
