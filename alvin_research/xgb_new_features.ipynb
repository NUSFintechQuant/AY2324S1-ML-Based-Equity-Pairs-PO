{
 "cells": [
  {
   "cell_type": "code",
   "execution_count": 1,
   "metadata": {},
   "outputs": [],
   "source": [
    "import pandas as pd\n",
    "import numpy as np\n",
    "import yfinance as yf\n",
    "import xgboost as xgb\n",
    "import matplotlib.pyplot as plt\n",
    "import seaborn as sns\n",
    "import joblib\n",
    "import os"
   ]
  },
  {
   "cell_type": "code",
   "execution_count": 15,
   "metadata": {},
   "outputs": [
    {
     "data": {
      "text/plain": [
       "(          volume   close       atr        rsi           obv        adx\n",
       " 0     26641980.0   90.75       NaN        NaN  0.000000e+00        NaN\n",
       " 1     42187570.0   94.58  5.430000        NaN  4.218757e+07  11.517517\n",
       " 2     46038530.0   93.02  5.383571        NaN -3.850960e+06  47.438404\n",
       " 3     26890770.0   91.01  5.159031        NaN -3.074173e+07  46.616455\n",
       " 4     23670270.0   92.70  5.012671        NaN -7.071460e+06  50.903089\n",
       " ...          ...     ...       ...        ...           ...        ...\n",
       " 2763  12119710.0  284.27  3.831502  74.436569  1.627693e+09  17.721660\n",
       " 2764  23260940.0  289.91  3.965680  78.678967  1.650954e+09  16.578787\n",
       " 2765  36556150.0  289.80  4.100275  78.405668  1.614398e+09  15.572356\n",
       " 2766  36019910.0  291.52  4.340969  79.598974  1.650418e+09  14.656497\n",
       " 2767  25172130.0  293.65  4.328043  80.999264  1.675590e+09  14.262704\n",
       " \n",
       " [2768 rows x 6 columns],\n",
       " 0       2009-01-02\n",
       " 1       2009-01-05\n",
       " 2       2009-01-06\n",
       " 3       2009-01-07\n",
       " 4       2009-01-08\n",
       "            ...    \n",
       " 2763    2019-12-24\n",
       " 2764    2019-12-26\n",
       " 2765    2019-12-27\n",
       " 2766    2019-12-30\n",
       " 2767    2019-12-31\n",
       " Name: datadate, Length: 2768, dtype: object)"
      ]
     },
     "execution_count": 15,
     "metadata": {},
     "output_type": "execute_result"
    }
   ],
   "source": [
    "directory = \"/Users/alvin/Documents/GitHub/AY2324S1-ML-Empowered-Stat-Arb/Feature Data/\"\n",
    "features = [\"volume\", \"close\", \"atr\", \"rsi\", \"obv\", \"adx\"]\n",
    "data = pd.DataFrame()\n",
    "stock = \"AAPL\"\n",
    "assigned = False\n",
    "index = None\n",
    "for feature in features:\n",
    "    temp = pd.read_csv(f\"{directory}{feature}.csv\")    \n",
    "    temp[feature] = temp[\"AAPL\"]\n",
    "    data = pd.concat([data, temp[feature]], axis = 1)\n",
    "    if not assigned:\n",
    "        assigned = True\n",
    "        index = temp.datadate\n",
    "data, index\n",
    "    "
   ]
  },
  {
   "cell_type": "code",
   "execution_count": 22,
   "metadata": {},
   "outputs": [],
   "source": [
    "data.index = index.values"
   ]
  },
  {
   "cell_type": "code",
   "execution_count": 23,
   "metadata": {},
   "outputs": [
    {
     "data": {
      "text/html": [
       "<div>\n",
       "<style scoped>\n",
       "    .dataframe tbody tr th:only-of-type {\n",
       "        vertical-align: middle;\n",
       "    }\n",
       "\n",
       "    .dataframe tbody tr th {\n",
       "        vertical-align: top;\n",
       "    }\n",
       "\n",
       "    .dataframe thead th {\n",
       "        text-align: right;\n",
       "    }\n",
       "</style>\n",
       "<table border=\"1\" class=\"dataframe\">\n",
       "  <thead>\n",
       "    <tr style=\"text-align: right;\">\n",
       "      <th></th>\n",
       "      <th>volume</th>\n",
       "      <th>close</th>\n",
       "      <th>atr</th>\n",
       "      <th>rsi</th>\n",
       "      <th>obv</th>\n",
       "      <th>adx</th>\n",
       "    </tr>\n",
       "  </thead>\n",
       "  <tbody>\n",
       "    <tr>\n",
       "      <th>2009-01-02</th>\n",
       "      <td>26641980.0</td>\n",
       "      <td>90.75</td>\n",
       "      <td>NaN</td>\n",
       "      <td>NaN</td>\n",
       "      <td>0.000000e+00</td>\n",
       "      <td>NaN</td>\n",
       "    </tr>\n",
       "    <tr>\n",
       "      <th>2009-01-05</th>\n",
       "      <td>42187570.0</td>\n",
       "      <td>94.58</td>\n",
       "      <td>5.430000</td>\n",
       "      <td>NaN</td>\n",
       "      <td>4.218757e+07</td>\n",
       "      <td>11.517517</td>\n",
       "    </tr>\n",
       "    <tr>\n",
       "      <th>2009-01-06</th>\n",
       "      <td>46038530.0</td>\n",
       "      <td>93.02</td>\n",
       "      <td>5.383571</td>\n",
       "      <td>NaN</td>\n",
       "      <td>-3.850960e+06</td>\n",
       "      <td>47.438404</td>\n",
       "    </tr>\n",
       "    <tr>\n",
       "      <th>2009-01-07</th>\n",
       "      <td>26890770.0</td>\n",
       "      <td>91.01</td>\n",
       "      <td>5.159031</td>\n",
       "      <td>NaN</td>\n",
       "      <td>-3.074173e+07</td>\n",
       "      <td>46.616455</td>\n",
       "    </tr>\n",
       "    <tr>\n",
       "      <th>2009-01-08</th>\n",
       "      <td>23670270.0</td>\n",
       "      <td>92.70</td>\n",
       "      <td>5.012671</td>\n",
       "      <td>NaN</td>\n",
       "      <td>-7.071460e+06</td>\n",
       "      <td>50.903089</td>\n",
       "    </tr>\n",
       "    <tr>\n",
       "      <th>...</th>\n",
       "      <td>...</td>\n",
       "      <td>...</td>\n",
       "      <td>...</td>\n",
       "      <td>...</td>\n",
       "      <td>...</td>\n",
       "      <td>...</td>\n",
       "    </tr>\n",
       "    <tr>\n",
       "      <th>2019-12-24</th>\n",
       "      <td>12119710.0</td>\n",
       "      <td>284.27</td>\n",
       "      <td>3.831502</td>\n",
       "      <td>74.436569</td>\n",
       "      <td>1.627693e+09</td>\n",
       "      <td>17.721660</td>\n",
       "    </tr>\n",
       "    <tr>\n",
       "      <th>2019-12-26</th>\n",
       "      <td>23260940.0</td>\n",
       "      <td>289.91</td>\n",
       "      <td>3.965680</td>\n",
       "      <td>78.678967</td>\n",
       "      <td>1.650954e+09</td>\n",
       "      <td>16.578787</td>\n",
       "    </tr>\n",
       "    <tr>\n",
       "      <th>2019-12-27</th>\n",
       "      <td>36556150.0</td>\n",
       "      <td>289.80</td>\n",
       "      <td>4.100275</td>\n",
       "      <td>78.405668</td>\n",
       "      <td>1.614398e+09</td>\n",
       "      <td>15.572356</td>\n",
       "    </tr>\n",
       "    <tr>\n",
       "      <th>2019-12-30</th>\n",
       "      <td>36019910.0</td>\n",
       "      <td>291.52</td>\n",
       "      <td>4.340969</td>\n",
       "      <td>79.598974</td>\n",
       "      <td>1.650418e+09</td>\n",
       "      <td>14.656497</td>\n",
       "    </tr>\n",
       "    <tr>\n",
       "      <th>2019-12-31</th>\n",
       "      <td>25172130.0</td>\n",
       "      <td>293.65</td>\n",
       "      <td>4.328043</td>\n",
       "      <td>80.999264</td>\n",
       "      <td>1.675590e+09</td>\n",
       "      <td>14.262704</td>\n",
       "    </tr>\n",
       "  </tbody>\n",
       "</table>\n",
       "<p>2768 rows × 6 columns</p>\n",
       "</div>"
      ],
      "text/plain": [
       "                volume   close       atr        rsi           obv        adx\n",
       "2009-01-02  26641980.0   90.75       NaN        NaN  0.000000e+00        NaN\n",
       "2009-01-05  42187570.0   94.58  5.430000        NaN  4.218757e+07  11.517517\n",
       "2009-01-06  46038530.0   93.02  5.383571        NaN -3.850960e+06  47.438404\n",
       "2009-01-07  26890770.0   91.01  5.159031        NaN -3.074173e+07  46.616455\n",
       "2009-01-08  23670270.0   92.70  5.012671        NaN -7.071460e+06  50.903089\n",
       "...                ...     ...       ...        ...           ...        ...\n",
       "2019-12-24  12119710.0  284.27  3.831502  74.436569  1.627693e+09  17.721660\n",
       "2019-12-26  23260940.0  289.91  3.965680  78.678967  1.650954e+09  16.578787\n",
       "2019-12-27  36556150.0  289.80  4.100275  78.405668  1.614398e+09  15.572356\n",
       "2019-12-30  36019910.0  291.52  4.340969  79.598974  1.650418e+09  14.656497\n",
       "2019-12-31  25172130.0  293.65  4.328043  80.999264  1.675590e+09  14.262704\n",
       "\n",
       "[2768 rows x 6 columns]"
      ]
     },
     "execution_count": 23,
     "metadata": {},
     "output_type": "execute_result"
    }
   ],
   "source": [
    "data"
   ]
  },
  {
   "cell_type": "code",
   "execution_count": 28,
   "metadata": {},
   "outputs": [
    {
     "data": {
      "image/png": "[encoded data removed]",
      "text/plain": [
       "<Figure size 640x480 with 1 Axes>"
      ]
     },
     "metadata": {},
     "output_type": "display_data"
    }
   ],
   "source": [
    "close = pd.read_csv(\"/Users/alvin/Documents/GitHub/AY2324S1-ML-Empowered-Stat-Arb/Feature Data/close.csv\")\n",
    "aapl_close = close[\"AAPL\"]\n",
    "plt.title(\"AAPL Close Prices\")\n",
    "plt.plot(close[\"datadate\"], aapl_close)\n",
    "plt.show()"
   ]
  },
  {
   "cell_type": "code",
   "execution_count": 4,
   "metadata": {},
   "outputs": [
    {
     "data": {
      "text/plain": [
       "(2768, 489)"
      ]
     },
     "execution_count": 4,
     "metadata": {},
     "output_type": "execute_result"
    }
   ],
   "source": [
    "stocks = ['XOM', 'SHW', 'UPS', 'DUK', 'UNH', 'JPM', 'AMZN', 'AAPL', 'MSFT', 'AMT']"
   ]
  }
 ],
 "metadata": {
  "kernelspec": {
   "display_name": "Python 3",
   "language": "python",
   "name": "python3"
  },
  "language_info": {
   "codemirror_mode": {
    "name": "ipython",
    "version": 3
   },
   "file_extension": ".py",
   "mimetype": "text/x-python",
   "name": "python",
   "nbconvert_exporter": "python",
   "pygments_lexer": "ipython3",
   "version": "3.9.12"
  },
  "orig_nbformat": 4
 },
 "nbformat": 4,
 "nbformat_minor": 2
}
